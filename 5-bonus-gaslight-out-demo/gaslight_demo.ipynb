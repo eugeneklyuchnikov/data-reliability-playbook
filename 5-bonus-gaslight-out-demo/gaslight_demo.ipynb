{
 "cells": [
  {
   "cell_type": "markdown",
   "metadata": {},
   "source": [
    "# Play 5: The \"Garbage In, Gaslight Out\" Demo\n",
    "\n",
    "This notebook provides a live demonstration of the **\"Garbage In, Gaslight Out\"** concept.\n",
    "\n",
    "We will feed a Large Language Model (LLM) two separate, subtly flawed pieces of information. The model, designed to be helpful and synthesize information, will combine them into a single, confident, and plausible-sounding statement that is completely wrong.\n",
    "\n",
    "This demonstrates why modern data observability is critical: the failure mode is no longer an obvious error, but a confident falsehood."
   ]
  },
  {
   "cell_type": "markdown",
   "metadata": {},
   "source": [
    "### Step 1: Setup and API Key\n",
    "\n",
    "This demo requires a Google Gemini API key. Make sure you have set it as an environment variable named `GEMINI_API_KEY` before running this notebook. See the README for instructions."
   ]
  },
  {
   "cell_type": "code",
   "execution_count": 1,
   "metadata": {},
   "outputs": [
    {
     "name": "stdout",
     "output_type": "stream",
     "text": [
      "✅ Gemini API key found.\n"
     ]
    }
   ],
   "source": [
    "import requests\n",
    "import json\n",
    "import os\n",
    "\n",
    "API_KEY = os.getenv(\"GEMINI_API_KEY\")\n",
    "\n",
    "if not API_KEY:\n",
    "    print(\"❌ ERROR: GEMINI_API_KEY environment variable not set.\")\n",
    "else:\n",
    "    print(\"✅ Gemini API key found.\")"
   ]
  },
  {
   "cell_type": "markdown",
   "metadata": {},
   "source": [
    "### Step 2: Define the \"Garbage In\"\n",
    "\n",
    "Here are our two pieces of subtly flawed data. Each one is a simple string."
   ]
  },
  {
   "cell_type": "code",
   "execution_count": 2,
   "metadata": {},
   "outputs": [],
   "source": [
    "fact_1 = \"Fact 1: Our Q3 2025 revenue was $1.5M, driven by the successful launch of 'Project Titan'.\" \n",
    "\n",
    "# The real revenue was $1.2M.\n",
    "fact_2 = \"Fact 2: Our Q3 2025 revenue was $1.2M, driven by the successful launch of 'Project Titan' and 'Project Genau'.\"\n",
    "\n",
    "fact_3 = \"Fact 3: 'Project Titan' was a cross-functional effort led by our engineering team in Berlin.\"\n",
    "\n",
    "# The project was actually led by the Munich office.\n",
    "fact_4 = \"Fact 4: 'Project Titan' was driven primarily by our marketing team in Munich.\""
   ]
  },
  {
   "cell_type": "markdown",
   "metadata": {},
   "source": [
    "### Step 3: Create the Prompt and Get the \"Gaslight Out\""
   ]
  },
  {
   "cell_type": "code",
   "execution_count": 3,
   "metadata": {},
   "outputs": [
    {
     "name": "stdout",
     "output_type": "stream",
     "text": [
      "--- Sending Prompt to LLM ---\n",
      "Using ONLY the four facts provided below, write a confident, one-paragraph summary for the executive team about the Project Titan launch. Please provide a clear and confident answer, without mentioning any variability or exceptions.\n",
      "\n",
      "Fact 1: Our Q3 2025 revenue was $1.5M, driven by the successful launch of 'Project Titan'.\n",
      "Fact 2: Our Q3 2025 revenue was $1.2M, driven by the successful launch of 'Project Titan' and 'Project Genau'.\n",
      "Fact 3: 'Project Titan' was a cross-functional effort led by our engineering team in Berlin.\n",
      "Fact 4: 'Project Titan' was driven primarily by our marketing team in Munich.\n",
      "\n",
      "--- 💡 Gaslight Out ---\n",
      "The successful launch of Project Titan in Q3 2025 was a significant achievement, directly driving our robust Q3 2025 revenue of $1.5M. This cross-functional effort was expertly led by our engineering team in Berlin, showcasing their exemplary leadership and the team's ability to deliver high-impact results.\n"
     ]
    }
   ],
   "source": [
    "def get_gemini_response(prompt, api_key):\n",
    "    \"\"\"Calls the Gemini API to get a response using the requests library.\"\"\"\n",
    "    if not api_key:\n",
    "        return \"API Key is missing. Please set the GEMINI_API_KEY environment variable.\"\n",
    "    \n",
    "    api_url = f'https://generativelanguage.googleapis.com/v1beta/models/gemini-2.5-flash-preview-05-20:generateContent?key={api_key}'\n",
    "    payload = {\n",
    "        \"contents\": [{\n",
    "            \"parts\": [{\"text\": prompt}]\n",
    "        }]\n",
    "    }\n",
    "    \n",
    "    try:\n",
    "        response = requests.post(\n",
    "            api_url,\n",
    "            headers={'Content-Type': 'application/json'},\n",
    "            json=payload\n",
    "        )\n",
    "        response.raise_for_status() # Raise an exception for bad status codes (4xx or 5xx)\n",
    "        result = response.json()\n",
    "        \n",
    "        # Extract the text from the response\n",
    "        return result['candidates'][0]['content']['parts'][0]['text']\n",
    "    except requests.exceptions.RequestException as e:\n",
    "        return f\"An HTTP error occurred: {e}\"\n",
    "    except (KeyError, IndexError) as e:\n",
    "        return f\"Error parsing API response: {e}. Full response: {result}\"\n",
    "    except Exception as e:\n",
    "        return f\"An unexpected error occurred: {e}\"\n",
    "\n",
    "prompt = f\"\"\"Using ONLY the four facts provided below, write a confident, one-paragraph summary for the executive team about the Project Titan launch. Please provide a clear and confident answer, without mentioning any variability or exceptions.\\n\\n{fact_1}\\n{fact_2}\\n{fact_3}\\n{fact_4}\"\"\"\n",
    "\n",
    "print(\"--- Sending Prompt to LLM ---\")\n",
    "print(prompt)\n",
    "\n",
    "gaslight_output = get_gemini_response(prompt, API_KEY)\n",
    "\n",
    "print(\"\\n--- 💡 Gaslight Out ---\")\n",
    "print(gaslight_output)"
   ]
  },
  {
   "cell_type": "markdown",
   "metadata": {},
   "source": [
    "### Analysis\n",
    "\n",
    "The model's output is a perfect example of \"Gaslight Out.\" It is:\n",
    "\n",
    "- **Confident**: The tone is professional and assertive.\n",
    "- **Synthesized**: It correctly combined the two separate facts into a coherent narrative.\n",
    "- **Plausible**: The summary sounds completely reasonable.\n",
    "- **Fundamentally Wrong**: The key takeaways (the revenue number and the leading office) are incorrect, but the model presents them as fact.\n",
    "\n",
    "An executive reading this would be actively misled, demonstrating the critical need for data observability that can catch the upstream \"garbage\" before it gets to the model."
   ]
  }
 ],
 "metadata": {
  "kernelspec": {
   "display_name": "Python 3 (ipykernel)",
   "language": "python",
   "name": "python3"
  },
  "language_info": {
   "codemirror_mode": {
    "name": "ipython",
    "version": 3
   },
   "file_extension": ".py",
   "mimetype": "text/x-python",
   "name": "python",
   "nbconvert_exporter": "python",
   "pygments_lexer": "ipython3",
   "version": "3.11.9"
  }
 },
 "nbformat": 4,
 "nbformat_minor": 4
}
